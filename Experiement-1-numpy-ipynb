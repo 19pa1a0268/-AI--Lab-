{
  "nbformat": 4,
  "nbformat_minor": 0,
  "metadata": {
    "colab": {
      "name": "Untitled3.ipynb",
      "provenance": [],
      "authorship_tag": "ABX9TyNiFwqKqiccpkoFcYZmhSVD",
      "include_colab_link": true
    },
    "kernelspec": {
      "name": "python3",
      "display_name": "Python 3"
    }
  },
  "cells": [
    {
      "cell_type": "markdown",
      "metadata": {
        "id": "view-in-github",
        "colab_type": "text"
      },
      "source": [
        "<a href=\"https://colab.research.google.com/github/19pa1a0268/-AI--Lab-/blob/master/Experiement-1-numpy-ipynb\" target=\"_parent\"><img src=\"https://colab.research.google.com/assets/colab-badge.svg\" alt=\"Open In Colab\"/></a>"
      ]
    },
    {
      "cell_type": "code",
      "metadata": {
        "id": "OiVvDgMPOTsq",
        "colab_type": "code",
        "colab": {}
      },
      "source": [
        ""
      ],
      "execution_count": null,
      "outputs": []
    },
    {
      "cell_type": "markdown",
      "metadata": {
        "id": "M38kq5dWOuUF",
        "colab_type": "text"
      },
      "source": [
        " Experiment 1 Numpy 1.Different ways to create numpy array"
      ]
    },
    {
      "cell_type": "code",
      "metadata": {
        "id": "1PfXQaUtOxqb",
        "colab_type": "code",
        "colab": {
          "base_uri": "https://localhost:8080/",
          "height": 34
        },
        "outputId": "5269b23a-7146-4566-e6f7-aa5d65088e9e"
      },
      "source": [
        " \n",
        " \n",
        "import numpy as np\n",
        "a = np.array([1,4,6])\n",
        "print(a)"
      ],
      "execution_count": 3,
      "outputs": [
        {
          "output_type": "stream",
          "text": [
            "[1 4 6]\n"
          ],
          "name": "stdout"
        }
      ]
    },
    {
      "cell_type": "code",
      "metadata": {
        "id": "PqrLUV8lPMpO",
        "colab_type": "code",
        "colab": {
          "base_uri": "https://localhost:8080/",
          "height": 51
        },
        "outputId": "52c012d8-cbe1-4bc2-cfe4-cc7c2d4a9820"
      },
      "source": [
        " \n",
        " \n",
        "a=np.array([[1,9], [2,7]])\n",
        "print(a)"
      ],
      "execution_count": 4,
      "outputs": [
        {
          "output_type": "stream",
          "text": [
            "[[1 9]\n",
            " [2 7]]\n"
          ],
          "name": "stdout"
        }
      ]
    },
    {
      "cell_type": "markdown",
      "metadata": {
        "id": "RU9_yDa-PaXz",
        "colab_type": "text"
      },
      "source": [
        " 2.Add,remove,modify elements in an array"
      ]
    },
    {
      "cell_type": "code",
      "metadata": {
        "id": "sa9Hhp5cPjDU",
        "colab_type": "code",
        "colab": {
          "base_uri": "https://localhost:8080/",
          "height": 34
        },
        "outputId": "0703a2e5-4480-43e4-b2f3-02b77426ceff"
      },
      "source": [
        " \n",
        " \n",
        "newArray = np.append(a,[11,44,56])\n",
        "print(newArray)"
      ],
      "execution_count": 5,
      "outputs": [
        {
          "output_type": "stream",
          "text": [
            "[ 1  9  2  7 11 44 56]\n"
          ],
          "name": "stdout"
        }
      ]
    },
    {
      "cell_type": "code",
      "metadata": {
        "id": "QBY5-o_9Qu7e",
        "colab_type": "code",
        "colab": {
          "base_uri": "https://localhost:8080/",
          "height": 34
        },
        "outputId": "2e7e762f-3048-4e27-a763-c7820dd3300f"
      },
      "source": [
        " \n",
        "import numpy as array\n",
        "l=np.array([4,6,9,3,7])\n",
        "l=np.delete(l,2)\n",
        "print(l)"
      ],
      "execution_count": 6,
      "outputs": [
        {
          "output_type": "stream",
          "text": [
            "[4 6 3 7]\n"
          ],
          "name": "stdout"
        }
      ]
    },
    {
      "cell_type": "code",
      "metadata": {
        "id": "ol-cpYpHQ5LO",
        "colab_type": "code",
        "colab": {
          "base_uri": "https://localhost:8080/",
          "height": 34
        },
        "outputId": "e1cb8259-043e-42d4-aa25-7e25a0a94354"
      },
      "source": [
        " \n",
        "b=np.array([1,7,4,3,2,5])\n",
        "b[b<2]=-1\n",
        "print(b)"
      ],
      "execution_count": 7,
      "outputs": [
        {
          "output_type": "stream",
          "text": [
            "[-1  7  4  3  2  5]\n"
          ],
          "name": "stdout"
        }
      ]
    },
    {
      "cell_type": "markdown",
      "metadata": {
        "id": "U117arNjRVZf",
        "colab_type": "text"
      },
      "source": [
        " 3.Arthematic operations on numpy array"
      ]
    },
    {
      "cell_type": "code",
      "metadata": {
        "id": "iIyzv6F5RWYM",
        "colab_type": "code",
        "colab": {
          "base_uri": "https://localhost:8080/",
          "height": 223
        },
        "outputId": "855460c3-5559-4c22-fdda-a4297fc11fee"
      },
      "source": [
        " \n",
        " \n",
        "import numpy as np\n",
        "k=np.random.random((2,2))\n",
        "v=np.random.random((2,2))\n",
        "sum=np.add(k,v)\n",
        "diff=np.subtract(k,v)\n",
        "prod=np.multiply(k,v)\n",
        "quo=np.divide(k,v)\n",
        "mod=np.mod(k,v)\n",
        "pow=np.power(k,v)\n",
        "print(sum)\n",
        "print(diff)\n",
        "print(prod)\n",
        "print(quo)\n",
        "print(mod)\n",
        "print(pow)"
      ],
      "execution_count": 9,
      "outputs": [
        {
          "output_type": "stream",
          "text": [
            "[[1.00277158 0.70465428]\n",
            " [0.60027864 0.38045652]]\n",
            "[[ 0.82441156  0.38698303]\n",
            " [ 0.0190861  -0.01558388]]\n",
            "[[0.08147411 0.08669545]\n",
            " [0.08999254 0.03612608]]\n",
            "[[10.24435367  3.43637423]\n",
            " [ 1.06567911  0.92130155]]\n",
            "[[0.02179146 0.06931177]\n",
            " [0.0190861  0.18243632]]\n",
            "[[0.99197304 0.90830962]\n",
            " [0.71131543 0.71397846]]\n"
          ],
          "name": "stdout"
        }
      ]
    },
    {
      "cell_type": "markdown",
      "metadata": {
        "id": "LQQwIBT3R20p",
        "colab_type": "text"
      },
      "source": [
        " 4.Slicing and iterating of numpy arrays\n",
        " \n",
        " \n",
        " Slicing"
      ]
    },
    {
      "cell_type": "code",
      "metadata": {
        "id": "m60HKMD1R_fO",
        "colab_type": "code",
        "colab": {
          "base_uri": "https://localhost:8080/",
          "height": 34
        },
        "outputId": "9440cc10-3af0-40aa-fae4-88c95a70613c"
      },
      "source": [
        " \n",
        " \n",
        "import numpy as np\n",
        "arr=np.array([4,2,5,6,7,8])\n",
        "print(arr[2:6])"
      ],
      "execution_count": 10,
      "outputs": [
        {
          "output_type": "stream",
          "text": [
            "[5 6 7 8]\n"
          ],
          "name": "stdout"
        }
      ]
    },
    {
      "cell_type": "markdown",
      "metadata": {
        "id": "dorKcTFaSGz_",
        "colab_type": "text"
      },
      "source": [
        "Iterating"
      ]
    },
    {
      "cell_type": "code",
      "metadata": {
        "id": "mgJQR6XOSIBE",
        "colab_type": "code",
        "colab": {
          "base_uri": "https://localhost:8080/",
          "height": 120
        },
        "outputId": "72a8d0e0-3e8c-4b22-d919-25265bdd040f"
      },
      "source": [
        " \n",
        "for i in arr:\n",
        "  print(i)"
      ],
      "execution_count": 12,
      "outputs": [
        {
          "output_type": "stream",
          "text": [
            "4\n",
            "2\n",
            "5\n",
            "6\n",
            "7\n",
            "8\n"
          ],
          "name": "stdout"
        }
      ]
    },
    {
      "cell_type": "markdown",
      "metadata": {
        "id": "rI411RGvSSA3",
        "colab_type": "text"
      },
      "source": [
        " 5.Matrix operations on numpy arrays"
      ]
    },
    {
      "cell_type": "code",
      "metadata": {
        "id": "g0M95MToSb0b",
        "colab_type": "code",
        "colab": {
          "base_uri": "https://localhost:8080/",
          "height": 120
        },
        "outputId": "ab2fa078-fb27-4ea4-c2c6-6b14657b8ffa"
      },
      "source": [
        " \n",
        "import numpy as np\n",
        "k=np.array([[1,2],[4,5]])\n",
        "v=np.array([[9,11],[7,17]])\n",
        "print(np.add(k,v))\n",
        "print(np.subtract(k,v))\n",
        "print(np.divide(k,v))"
      ],
      "execution_count": 13,
      "outputs": [
        {
          "output_type": "stream",
          "text": [
            "[[10 13]\n",
            " [11 22]]\n",
            "[[ -8  -9]\n",
            " [ -3 -12]]\n",
            "[[0.11111111 0.18181818]\n",
            " [0.57142857 0.29411765]]\n"
          ],
          "name": "stdout"
        }
      ]
    }
  ]
}