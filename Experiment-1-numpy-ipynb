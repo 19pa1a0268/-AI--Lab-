{
  "nbformat": 4,
  "nbformat_minor": 0,
  "metadata": {
    "colab": {
      "name": "Untitled",
      "provenance": [],
      "authorship_tag": "ABX9TyMqHOVsQVp2JNt+fb0bHlGv",
      "include_colab_link": true
    },
    "kernelspec": {
      "name": "python3",
      "display_name": "Python 3"
    }
  },
  "cells": [
    {
      "cell_type": "markdown",
      "metadata": {
        "id": "view-in-github",
        "colab_type": "text"
      },
      "source": [
        "<a href=\"https://colab.research.google.com/github/19pa1a0268/-AI--Lab-/blob/master/Experiment-1-numpy-ipynb\" target=\"_parent\"><img src=\"https://colab.research.google.com/assets/colab-badge.svg\" alt=\"Open In Colab\"/></a>"
      ]
    },
    {
      "cell_type": "code",
      "metadata": {
        "id": "R14TVPF8ZGij",
        "colab_type": "code",
        "colab": {}
      },
      "source": [
        ""
      ],
      "execution_count": null,
      "outputs": []
    },
    {
      "cell_type": "markdown",
      "metadata": {
        "id": "vwoKOZe5alyD",
        "colab_type": "text"
      },
      "source": [
        ""
      ]
    },
    {
      "cell_type": "markdown",
      "metadata": {
        "id": "0-rdIPV-anV7",
        "colab_type": "text"
      },
      "source": [
        "#Experiment-1 Numpy\n",
        "##Different ways to create numpy arrays"
      ]
    },
    {
      "cell_type": "code",
      "metadata": {
        "id": "Jd-Lvv38a8hn",
        "colab_type": "code",
        "colab": {}
      },
      "source": [
        ""
      ],
      "execution_count": null,
      "outputs": []
    },
    {
      "cell_type": "code",
      "metadata": {
        "id": "CcnnUyOhZI-7",
        "colab_type": "code",
        "colab": {
          "base_uri": "https://localhost:8080/",
          "height": 34
        },
        "outputId": "0e5e1fc0-abf0-46aa-b793-9dd16b883284"
      },
      "source": [
        " \n",
        "import numpy as np\n",
        "a = np.array([1,4,6])\n",
        "print(a)"
      ],
      "execution_count": null,
      "outputs": [
        {
          "output_type": "stream",
          "text": [
            "[1 4 6]\n"
          ],
          "name": "stdout"
        }
      ]
    },
    {
      "cell_type": "code",
      "metadata": {
        "id": "4JB0VRlRZWzn",
        "colab_type": "code",
        "colab": {
          "base_uri": "https://localhost:8080/",
          "height": 51
        },
        "outputId": "74b3a0f2-05f3-43da-9cf4-7a8232ba1004"
      },
      "source": [
        " \n",
        "a=np.array([[1,9], [2,7]])\n",
        "print(a)"
      ],
      "execution_count": null,
      "outputs": [
        {
          "output_type": "stream",
          "text": [
            "[[1 9]\n",
            " [2 7]]\n"
          ],
          "name": "stdout"
        }
      ]
    },
    {
      "cell_type": "markdown",
      "metadata": {
        "id": "3QOqfY4TbSAy",
        "colab_type": "text"
      },
      "source": [
        "##Add,remove,modify elements in an array"
      ]
    },
    {
      "cell_type": "code",
      "metadata": {
        "id": "KxNC6FVIZhZK",
        "colab_type": "code",
        "colab": {
          "base_uri": "https://localhost:8080/",
          "height": 34
        },
        "outputId": "c9ac7eef-9c22-4c2f-8b94-185e49643452"
      },
      "source": [
        " \n",
        "newArray = np.append(a,[11,44,56])\n",
        "print(newArray)"
      ],
      "execution_count": null,
      "outputs": [
        {
          "output_type": "stream",
          "text": [
            "[ 1  9  2  7 11 44 56]\n"
          ],
          "name": "stdout"
        }
      ]
    },
    {
      "cell_type": "code",
      "metadata": {
        "id": "AGKkLny6Zw4D",
        "colab_type": "code",
        "colab": {
          "base_uri": "https://localhost:8080/",
          "height": 34
        },
        "outputId": "e73dc4f1-9e47-433e-a4b1-0a5d1b414ff7"
      },
      "source": [
        " \n",
        "import numpy as array\n",
        "l=np.array([4,6,9,3,7])\n",
        "l=np.delete(l,2)\n",
        "print(l)"
      ],
      "execution_count": null,
      "outputs": [
        {
          "output_type": "stream",
          "text": [
            "[4 6 3 7]\n"
          ],
          "name": "stdout"
        }
      ]
    },
    {
      "cell_type": "code",
      "metadata": {
        "id": "LZemc4AVZ8Qz",
        "colab_type": "code",
        "colab": {
          "base_uri": "https://localhost:8080/",
          "height": 34
        },
        "outputId": "14af7e28-3afc-4a09-91c8-a785729279a5"
      },
      "source": [
        " \n",
        "b=np.array([1,7,4,3,2,5])\n",
        "b[b<2]=-1\n",
        "print(b)"
      ],
      "execution_count": null,
      "outputs": [
        {
          "output_type": "stream",
          "text": [
            "[-1  7  4  3  2  5]\n"
          ],
          "name": "stdout"
        }
      ]
    },
    {
      "cell_type": "markdown",
      "metadata": {
        "id": "8iWkeaYRbkI7",
        "colab_type": "text"
      },
      "source": [
        "##Arthametic operations on numpy array"
      ]
    },
    {
      "cell_type": "code",
      "metadata": {
        "id": "gZNwa4L3aFH4",
        "colab_type": "code",
        "colab": {
          "base_uri": "https://localhost:8080/",
          "height": 223
        },
        "outputId": "9143e0ab-5a49-4ba7-95ca-9fec793b2be5"
      },
      "source": [
        " \n",
        "import numpy as np\n",
        "k=np.random.random((2,2))\n",
        "v=np.random.random((2,2))\n",
        "sum=np.add(k,v)\n",
        "diff=np.subtract(k,v)\n",
        "prod=np.multiply(k,v)\n",
        "quo=np.divide(k,v)\n",
        "mod=np.mod(k,v)\n",
        "pow=np.power(k,v)\n",
        "print(sum)\n",
        "print(diff)\n",
        "print(prod)\n",
        "print(quo)\n",
        "print(mod)\n",
        "print(pow)"
      ],
      "execution_count": null,
      "outputs": [
        {
          "output_type": "stream",
          "text": [
            "[[1.66826603 1.64871931]\n",
            " [0.79293604 1.50647538]]\n",
            "[[-0.02608722 -0.10451433]\n",
            " [ 0.67024391 -0.45849653]]\n",
            "[[0.69560775 0.67683803]\n",
            " [0.04488017 0.51481225]]\n",
            "[[ 0.96920687  0.88077535]\n",
            " [11.9256219   0.53333019]]\n",
            "[[0.82108941 0.77210249]\n",
            " [0.05678326 0.52398942]]\n",
            "[[0.84620111 0.79713885]\n",
            " [0.98100983 0.52995417]]\n"
          ],
          "name": "stdout"
        }
      ]
    },
    {
      "cell_type": "markdown",
      "metadata": {
        "id": "oDo9CrGYb6Bl",
        "colab_type": "text"
      },
      "source": [
        "##slicing and iterating on numpy arrays\n",
        "\n",
        "\n",
        "\n",
        "##slicing"
      ]
    },
    {
      "cell_type": "code",
      "metadata": {
        "id": "ziDREXDYaePt",
        "colab_type": "code",
        "colab": {}
      },
      "source": [
        ""
      ],
      "execution_count": null,
      "outputs": []
    },
    {
      "cell_type": "code",
      "metadata": {
        "id": "UMNVTQKXafky",
        "colab_type": "code",
        "colab": {
          "base_uri": "https://localhost:8080/",
          "height": 34
        },
        "outputId": "af55132b-d2f8-48f6-852e-5e23e4f9a9ac"
      },
      "source": [
        " \n",
        "import numpy as np\n",
        "arr=np.array([4,2,5,6,7,8])\n",
        "print(arr[2:6])"
      ],
      "execution_count": null,
      "outputs": [
        {
          "output_type": "stream",
          "text": [
            "[5 6 7 8]\n"
          ],
          "name": "stdout"
        }
      ]
    },
    {
      "cell_type": "code",
      "metadata": {
        "id": "9aL7RBC_amhD",
        "colab_type": "code",
        "colab": {}
      },
      "source": [
        ""
      ],
      "execution_count": null,
      "outputs": []
    },
    {
      "cell_type": "markdown",
      "metadata": {
        "id": "QwcWJTiZcSWx",
        "colab_type": "text"
      },
      "source": [
        "##iterating"
      ]
    },
    {
      "cell_type": "code",
      "metadata": {
        "id": "WELK_1wXan7r",
        "colab_type": "code",
        "colab": {
          "base_uri": "https://localhost:8080/",
          "height": 120
        },
        "outputId": "b8993e14-fbc9-4345-cba8-d770929d65d6"
      },
      "source": [
        " \n",
        "for i in arr:\n",
        "  print(i)"
      ],
      "execution_count": null,
      "outputs": [
        {
          "output_type": "stream",
          "text": [
            "4\n",
            "2\n",
            "5\n",
            "6\n",
            "7\n",
            "8\n"
          ],
          "name": "stdout"
        }
      ]
    },
    {
      "cell_type": "markdown",
      "metadata": {
        "id": "NRPfojMpcWW2",
        "colab_type": "text"
      },
      "source": [
        "##Matrix operations on numpy arrays"
      ]
    },
    {
      "cell_type": "code",
      "metadata": {
        "id": "yF0VELRtfwyY",
        "colab_type": "code",
        "colab": {}
      },
      "source": [
        "from google.colab import drive\n",
        "drive.mount('/content/drive')"
      ],
      "execution_count": null,
      "outputs": []
    },
    {
      "cell_type": "code",
      "metadata": {
        "id": "wSQbzikKa4va",
        "colab_type": "code",
        "colab": {}
      },
      "source": [
        ""
      ],
      "execution_count": null,
      "outputs": []
    },
    {
      "cell_type": "code",
      "metadata": {
        "id": "xNdgiJzla8L1",
        "colab_type": "code",
        "colab": {
          "base_uri": "https://localhost:8080/",
          "height": 120
        },
        "outputId": "520c391f-d6a4-42b5-cbd8-b4a3f41d7657"
      },
      "source": [
        " \n",
        "import numpy as np\n",
        "k=np.array([[1,2],[4,5]])\n",
        "v=np.array([[9,11],[7,17]])\n",
        "print(np.add(k,v))\n",
        "print(np.subtract(k,v))\n",
        "print(np.divide(k,v))"
      ],
      "execution_count": 1,
      "outputs": [
        {
          "output_type": "stream",
          "text": [
            "[[10 13]\n",
            " [11 22]]\n",
            "[[ -8  -9]\n",
            " [ -3 -12]]\n",
            "[[0.11111111 0.18181818]\n",
            " [0.57142857 0.29411765]]\n"
          ],
          "name": "stdout"
        }
      ]
    },
    {
      "cell_type": "code",
      "metadata": {
        "id": "BhCbXpI3a4tv",
        "colab_type": "code",
        "colab": {}
      },
      "source": [
        ""
      ],
      "execution_count": null,
      "outputs": []
    }
  ]
}